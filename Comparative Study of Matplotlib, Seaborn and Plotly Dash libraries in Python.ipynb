{
 "cells": [
  {
   "cell_type": "code",
   "execution_count": null,
   "id": "c709a3e0",
   "metadata": {},
   "outputs": [],
   "source": [
    "import pandas as pd\n",
    "import matplotlib.pyplot as plt\n",
    "import seaborn as sns\n",
    "import numpy as np\n",
    "import plotly.express as px"
   ]
  },
  {
   "cell_type": "code",
   "execution_count": null,
   "id": "6a3e524c",
   "metadata": {},
   "outputs": [],
   "source": [
    "#Reding the csv file\n",
    "dfanime = pd.read_csv(r'anime.csv')"
   ]
  },
  {
   "cell_type": "code",
   "execution_count": null,
   "id": "138028c3",
   "metadata": {},
   "outputs": [],
   "source": [
    "#Checking the no of columns and rows\n",
    "dfanime.shape"
   ]
  },
  {
   "cell_type": "code",
   "execution_count": null,
   "id": "dc436823",
   "metadata": {},
   "outputs": [],
   "source": [
    "#Prining one row with all columns\n",
    "pd.set_option('display.max_columns', None)\n",
    "dfanime.head(1)"
   ]
  },
  {
   "cell_type": "code",
   "execution_count": null,
   "id": "429b4291",
   "metadata": {},
   "outputs": [],
   "source": [
    "#dropping unwanted columns\n",
    "dfanime.drop(['sfw', 'approved','studios', 'producers', 'licensors','synopsis', 'background','main_picture','url', 'trailer_url','title_english', 'title_japanese', 'title_synonyms'],axis=1, inplace=True)"
   ]
  },
  {
   "cell_type": "code",
   "execution_count": null,
   "id": "c06b6426",
   "metadata": {},
   "outputs": [],
   "source": [
    "#Clearing data with no scores\n",
    "dfScoreNaN = dfanime[dfanime['score'].notna()]\n",
    "dfScoreNaN.describe()"
   ]
  },
  {
   "cell_type": "code",
   "execution_count": null,
   "id": "2e4b093e",
   "metadata": {},
   "outputs": [],
   "source": [
    "#Clearing data with no start_date\n",
    "dfstartDateNaN = dfScoreNaN[dfScoreNaN['start_date'].notna()]\n",
    "dfstartDateNaN.describe()"
   ]
  },
  {
   "cell_type": "code",
   "execution_count": null,
   "id": "6b6d62f9",
   "metadata": {},
   "outputs": [],
   "source": [
    "#Clearing data with no end_date\n",
    "dfScoreDateNaN = dfstartDateNaN[dfstartDateNaN['end_date'].notna()]\n",
    "dfScoreDateNaN.describe()"
   ]
  },
  {
   "cell_type": "code",
   "execution_count": null,
   "id": "95a0642e",
   "metadata": {},
   "outputs": [],
   "source": [
    "#Creating 6 more columns with start and end year, month and day for filtering and sorting purpose\n",
    "dfScoreDateNaN[['sYear','sMonth','sDay']] = dfScoreDateNaN.start_date.str.split(\"-\",expand=True,)\n",
    "dfScoreDateNaN[['eYear','eMonth','eDay']] = dfScoreDateNaN.end_date.str.split(\"-\",expand=True,)\n",
    "#Checking if the columns are added\n",
    "dfScoreDateNaN.columns "
   ]
  },
  {
   "cell_type": "code",
   "execution_count": null,
   "id": "73e3c93e",
   "metadata": {},
   "outputs": [],
   "source": [
    "#Sorting the dataset based on start_year\n",
    "dfScoreDateNaN=dfScoreDateNaN.sort_values(by=['sYear'])\n",
    "#Checking if it's sorted properly with a part of dataset\n",
    "dfScoreDateNaN.head(10)"
   ]
  },
  {
   "cell_type": "code",
   "execution_count": null,
   "id": "6db0141d",
   "metadata": {},
   "outputs": [],
   "source": [
    "#Filtering data which has null values in Generes column\n",
    "dfgenreNaN = dfScoreDateNaN[dfScoreDateNaN['genres'].notna()]\n",
    "dfgenreNaN.describe()"
   ]
  },
  {
   "cell_type": "code",
   "execution_count": null,
   "id": "25a508df",
   "metadata": {},
   "outputs": [],
   "source": [
    "#Generes are in string format including [,], and ' special characters. Removing the special characters and splitting it with coma to identify the unique genres from Genre column\n",
    "dfGenreFix = dfgenreNaN.genres.apply(lambda x:x.strip(\"[]\").replace(\"'\",\"\").split(\", \")).explode().unique()\n",
    "dfGenreFix"
   ]
  },
  {
   "cell_type": "code",
   "execution_count": null,
   "id": "2d21d72b",
   "metadata": {},
   "outputs": [],
   "source": [
    "#Splitting them with coma\n",
    "dfgenreNaN.genres.apply(lambda x:x.strip(\"[]\").replace(\"'\",\"\").split(\", \"))\n",
    "dfgenreNaN.genres.describe()"
   ]
  },
  {
   "cell_type": "code",
   "execution_count": null,
   "id": "e19abd91",
   "metadata": {},
   "outputs": [],
   "source": [
    "#Mappring T or F for each genre for each anime\n",
    "dfgenreNaN.genres.apply(lambda x: list(map(lambda y: y in x, dfGenreFix)))"
   ]
  },
  {
   "cell_type": "code",
   "execution_count": null,
   "id": "89d4a735",
   "metadata": {},
   "outputs": [],
   "source": [
    "#Allocating T or F in separate genre column for each anime\n",
    "dfGenreAllColumn = pd.DataFrame(dfgenreNaN.genres.apply(lambda x: list(map(lambda y: y in x, dfGenreFix))).to_list(), columns=dfGenreFix)"
   ]
  },
  {
   "cell_type": "code",
   "execution_count": null,
   "id": "789f95e3",
   "metadata": {},
   "outputs": [],
   "source": [
    "#Print and check if all genre columns are displayed\n",
    "pd.set_option('display.max_columns', None)\n",
    "dfGenreAllColumn.head(1)"
   ]
  },
  {
   "cell_type": "code",
   "execution_count": null,
   "id": "c5623b32",
   "metadata": {},
   "outputs": [],
   "source": [
    "#Concat Genre table with original table with all values\n",
    "dfGenreSet = pd.concat([dfgenreNaN,dfGenreAllColumn], axis=1)"
   ]
  },
  {
   "cell_type": "code",
   "execution_count": null,
   "id": "49346eb0",
   "metadata": {},
   "outputs": [],
   "source": [
    "#Print and check\n",
    "pd.set_option('display.max_columns', None)\n",
    "dfGenreSet.head(1)"
   ]
  },
  {
   "cell_type": "code",
   "execution_count": null,
   "id": "fdde27dd",
   "metadata": {},
   "outputs": [],
   "source": [
    "#Filtering Fall anime in 2020\n",
    "dfFallAnime2020 = dfScoreDateNaN[(dfScoreDateNaN.sYear == '2020') & (dfScoreDateNaN.sMonth >= '09')]\n",
    "dfFallAnime2020.sort_values(by=['score'])\n",
    "dfFallAnime2020.describe()"
   ]
  },
  {
   "cell_type": "code",
   "execution_count": null,
   "id": "5c9c2244",
   "metadata": {},
   "outputs": [],
   "source": [
    "#Filtering Winter anime from 2021\n",
    "dfWinterAnime2021 = dfGenreSet[(dfGenreSet.sYear == '2021') & (dfGenreSet.sMonth >= '01') & (dfGenreSet.sMonth <= '04')]\n",
    "dfWinterAnime2021.head(1)"
   ]
  },
  {
   "cell_type": "code",
   "execution_count": null,
   "id": "e201bc6c",
   "metadata": {},
   "outputs": [],
   "source": [
    "#Creating a table with No of anime in each genre during winter 2021\n",
    "data = {'Genre': ['Comedy', 'Drama', 'Fantasy', 'Adventure', 'Romance', 'Sports',\n",
    "       'Action', 'Supernatural', 'Mystery', 'Avant Garde',\n",
    "       'Slice of Life', 'Sci-Fi', 'Horror'],\n",
    "        'NoOfAnime': [(dfWinterAnime2021['Comedy']== True).sum(), (dfWinterAnime2021['Drama']== True).sum(), (dfWinterAnime2021['Fantasy']== True).sum(), (dfWinterAnime2021['Adventure']== True).sum(), (dfWinterAnime2021['Romance']== True).sum(), (dfWinterAnime2021['Sports']== True).sum(),\n",
    "       (dfWinterAnime2021['Action']== True).sum(), (dfWinterAnime2021['Supernatural']== True).sum(), (dfWinterAnime2021['Mystery']== True).sum(), (dfWinterAnime2021['Avant Garde']== True).sum(),\n",
    "       (dfWinterAnime2021['Slice of Life']== True).sum(), (dfWinterAnime2021['Sci-Fi']== True).sum(), (dfWinterAnime2021['Horror']== True).sum()]\n",
    "        }\n",
    "\n",
    "dfWinterAnime2021GenreCount = pd.DataFrame(data)\n",
    "\n",
    "dfWinterAnime2021GenreCount"
   ]
  },
  {
   "cell_type": "code",
   "execution_count": null,
   "id": "f92442cd",
   "metadata": {},
   "outputs": [],
   "source": [
    "# Filterning anime from 2021\n",
    "dfAnime2021 = dfGenreSet[(dfGenreSet.sYear == '2021')]"
   ]
  },
  {
   "cell_type": "code",
   "execution_count": null,
   "id": "77d8ab17",
   "metadata": {},
   "outputs": [],
   "source": [
    "# Generate a table with year and no of anime released that year\n",
    "data = {'Year': [2001,2002, 2003, 2004, 2005, 2006, 2007, 2008, 2009, 2010, 2011, 2012, 2013, 2014, 2015, 2016, 2017, 2018, 2019, 2020, 2021, 2022],\n",
    "        'Count': [(dfGenreSet.sYear=='2001').sum(),(dfGenreSet.sYear=='2002').sum(),(dfGenreSet.sYear=='2003').sum(),(dfGenreSet.sYear=='2004').sum(),(dfGenreSet.sYear=='2005').sum(),(dfGenreSet.sYear=='2006').sum(),(dfGenreSet.sYear=='2007').sum(),(dfGenreSet.sYear=='2008').sum(),(dfGenreSet.sYear=='2009').sum(),(dfGenreSet.sYear=='2010').sum(),(dfGenreSet.sYear=='2011').sum(),(dfGenreSet.sYear=='2012').sum(),(dfGenreSet.sYear=='2013').sum(),(dfGenreSet.sYear=='2014').sum(),(dfGenreSet.sYear=='2015').sum(),(dfGenreSet.sYear=='2016').sum(),(dfGenreSet.sYear=='2017').sum(),(dfGenreSet.sYear=='2018').sum(),(dfGenreSet.sYear=='2019').sum(),(dfGenreSet.sYear=='2020').sum(),(dfGenreSet.sYear=='2021').sum(),(dfGenreSet.sYear=='2022').sum()]   \n",
    "       }\n",
    "yearCountTable = pd.DataFrame(data)\n",
    "yearCountTable"
   ]
  },
  {
   "cell_type": "code",
   "execution_count": null,
   "id": "4b0893bb",
   "metadata": {},
   "outputs": [],
   "source": [
    "#generate seasonalcount for 4 years\n",
    "seasonCountTable = dfGenreSet[['sYear', 'start_season', 'score']]\n",
    "seasonCountTable = seasonCountTable[(seasonCountTable.sYear>'2000') & (seasonCountTable.sYear<'2022')].dropna()\n",
    "seasonCountTable = seasonCountTable.groupby(['sYear', 'start_season'])['score'].agg('count').reset_index()\n",
    "seasonCountTable.columns = ['Year', 'Season', 'Count']\n",
    "seasonCountTable"
   ]
  },
  {
   "cell_type": "code",
   "execution_count": null,
   "id": "09cbb23d",
   "metadata": {},
   "outputs": [],
   "source": [
    "# Filtering top 10 fall anime in 2010\n",
    "dfFallAnime2020Highest = dfFallAnime2020.head(10)"
   ]
  },
  {
   "cell_type": "markdown",
   "id": "8c699258",
   "metadata": {},
   "source": [
    "<H1>MatPlotLib Bar Graph</H1>"
   ]
  },
  {
   "cell_type": "code",
   "execution_count": null,
   "id": "09d189e8",
   "metadata": {},
   "outputs": [],
   "source": [
    "%%time\n",
    "plt.rcdefaults()\n",
    "fig, ax = plt.subplots()\n",
    "X = dfFallAnime2020Highest['title']\n",
    "Y = dfFallAnime2020Highest['score']\n",
    "ax.barh(X, Y, align='center')\n",
    "ax.invert_yaxis()\n",
    "ax.set_xlabel('Score')\n",
    "ax.set_ylabel('Title')\n",
    "ax.set_title('Score vs Title')\n",
    "plt.show()"
   ]
  },
  {
   "cell_type": "markdown",
   "id": "e2e1a670",
   "metadata": {},
   "source": [
    "<H1>Seaborn Bar Graph</H1>"
   ]
  },
  {
   "cell_type": "code",
   "execution_count": null,
   "id": "d570b904",
   "metadata": {},
   "outputs": [],
   "source": [
    "%%time\n",
    "sns.barplot(data=dfFallAnime2020Highest, x=\"score\", y=\"title\", color='blue').set(title='Score vs Title')"
   ]
  },
  {
   "cell_type": "markdown",
   "id": "1ee73b08",
   "metadata": {},
   "source": [
    "<H1>Dash Bar Graph</H1>"
   ]
  },
  {
   "cell_type": "code",
   "execution_count": null,
   "id": "5bd07173",
   "metadata": {},
   "outputs": [],
   "source": [
    "%%time\n",
    "fig = px.bar(dfFallAnime2020Highest, x='score', y='title', title=\"Score vs title\")\n",
    "fig.show()"
   ]
  },
  {
   "cell_type": "markdown",
   "id": "8d645626",
   "metadata": {},
   "source": [
    "<H1> Matplotlib scatter plot </H1>"
   ]
  },
  {
   "cell_type": "code",
   "execution_count": null,
   "id": "b0d57488",
   "metadata": {},
   "outputs": [],
   "source": [
    "%%time\n",
    "plt.figure(figsize=(15,4))\n",
    "plt.scatter(dfFallAnime2020['score'], dfFallAnime2020['members'])\n",
    "plt.show()"
   ]
  },
  {
   "cell_type": "markdown",
   "id": "6dc787c9",
   "metadata": {},
   "source": [
    "<H1> Seaborn scatter plot </H1>"
   ]
  },
  {
   "cell_type": "code",
   "execution_count": null,
   "id": "5019ff55",
   "metadata": {},
   "outputs": [],
   "source": [
    "%%time\n",
    "plt.figure(figsize=(15,4))\n",
    "sns.set_theme(style=\"whitegrid\")\n",
    "cmap = sns.cubehelix_palette(rot=-.2, as_cmap=True)\n",
    "g = sns.relplot(\n",
    "    data=dfFallAnime2020,\n",
    "    x=\"score\", y=\"members\",\n",
    "    palette=cmap, sizes=(10, 200),\n",
    ")\n",
    "g.set(xscale=\"linear\", yscale=\"linear\")\n",
    "g.ax.xaxis.grid(True, \"minor\", linewidth=.25)\n",
    "g.ax.yaxis.grid(True, \"minor\", linewidth=.25)\n",
    "g.despine(left=True, bottom=True)"
   ]
  },
  {
   "cell_type": "markdown",
   "id": "c44d12a0",
   "metadata": {},
   "source": [
    "<H1> Dash scatter plot </H1>"
   ]
  },
  {
   "cell_type": "code",
   "execution_count": null,
   "id": "e2c3fe73",
   "metadata": {},
   "outputs": [],
   "source": [
    "%%time\n",
    "fig = px.scatter(dfFallAnime2020, x= \"score\", y = \"members\")\n",
    "fig.show()"
   ]
  },
  {
   "cell_type": "markdown",
   "id": "0b017d84",
   "metadata": {},
   "source": [
    "<H1>Matplotlib Pie chart</H1>"
   ]
  },
  {
   "cell_type": "code",
   "execution_count": null,
   "id": "0f64c224",
   "metadata": {},
   "outputs": [],
   "source": [
    "%%time\n",
    "fig1, ax1 = plt.subplots(figsize=(15,4))\n",
    "plt.pie(dfWinterAnime2021GenreCount.NoOfAnime, autopct='%1.1f%%',\n",
    "        shadow=False, startangle=90, radius=2)\n",
    "plt.legend(\n",
    "    loc='best',\n",
    "    labels=dfWinterAnime2021GenreCount.Genre,\n",
    "    prop={'size': 10},\n",
    "    bbox_to_anchor=(0.0, 1),\n",
    "    bbox_transform=fig1.transFigure\n",
    ")\n",
    "plt.show()"
   ]
  },
  {
   "cell_type": "markdown",
   "id": "958d4f1b",
   "metadata": {},
   "source": [
    "<H1>Seaborn Pie Chart</H1>"
   ]
  },
  {
   "cell_type": "code",
   "execution_count": null,
   "id": "3086e367",
   "metadata": {},
   "outputs": [],
   "source": [
    "%%time\n",
    "import matplotlib.pyplot as plt\n",
    "import seaborn as sns\n",
    "plt.figure(figsize=(15,4))\n",
    "data = dfWinterAnime2021GenreCount.NoOfAnime\n",
    "labels = dfWinterAnime2021GenreCount.Genre\n",
    "colors = sns.color_palette('pastel')[0:21]\n",
    "plt.axis('equal')\n",
    "plt.pie(data, labels = labels, colors = colors, autopct='%.1f%%', radius=2)\n",
    "plt.legend(labels, loc=\"best\")\n",
    "plt.show()"
   ]
  },
  {
   "cell_type": "markdown",
   "id": "ac3bbc76",
   "metadata": {},
   "source": [
    "<H1>Dash Pie Chart</H1>"
   ]
  },
  {
   "cell_type": "code",
   "execution_count": null,
   "id": "21995d2d",
   "metadata": {},
   "outputs": [],
   "source": [
    "%%time\n",
    "import plotly.express as px\n",
    "fig = px.pie(dfWinterAnime2021GenreCount, values=dfWinterAnime2021GenreCount.NoOfAnime, names=dfWinterAnime2021GenreCount.Genre, title='Genre vs No of Anime')\n",
    "fig.show()"
   ]
  },
  {
   "cell_type": "markdown",
   "id": "cae24059",
   "metadata": {},
   "source": [
    "<H1> Matplotlib Histogram </H1>"
   ]
  },
  {
   "cell_type": "code",
   "execution_count": null,
   "id": "300ba093",
   "metadata": {},
   "outputs": [],
   "source": [
    "%%time\n",
    "plt.figure(figsize=(15,4))\n",
    "plt.hist(dfAnime2021['score'], bins=np.arange(0,10,0.25), alpha = 0.5, \n",
    "         color = 'blue')\n",
    "plt.legend(['score'])\n",
    "plt.show()"
   ]
  },
  {
   "cell_type": "markdown",
   "id": "584d0df7",
   "metadata": {},
   "source": [
    "<H1> Seaborn Histogram </H1>"
   ]
  },
  {
   "cell_type": "code",
   "execution_count": null,
   "id": "ea83ea29",
   "metadata": {},
   "outputs": [],
   "source": [
    "%%time\n",
    "plt.figure(figsize=(15,4))\n",
    "sns.histplot(data=dfAnime2021, x=\"score\", color ='blue', bins=np.arange(0,10,0.25))"
   ]
  },
  {
   "cell_type": "markdown",
   "id": "ad4cecc8",
   "metadata": {},
   "source": [
    "<H1> Dash Histogram </H1>"
   ]
  },
  {
   "cell_type": "code",
   "execution_count": null,
   "id": "94c7cccf",
   "metadata": {},
   "outputs": [],
   "source": [
    "%%time\n",
    "fig = px.histogram(dfAnime2021, x=\"score\", nbins=35)\n",
    "fig.show()"
   ]
  },
  {
   "cell_type": "markdown",
   "id": "4ea7b703",
   "metadata": {},
   "source": [
    "<H1>MatPlotLib Line Graph</H1>"
   ]
  },
  {
   "cell_type": "code",
   "execution_count": null,
   "id": "1a31a996",
   "metadata": {},
   "outputs": [],
   "source": [
    "%%time\n",
    "fig, ax = plt.subplots(figsize=(15,4))\n",
    "ax.plot(yearCountTable['Year'],yearCountTable['Count'])\n",
    "plt.show()"
   ]
  },
  {
   "cell_type": "markdown",
   "id": "0a0a4b8e",
   "metadata": {},
   "source": [
    "<H1>Seaborn Line Graph</H1>"
   ]
  },
  {
   "cell_type": "code",
   "execution_count": null,
   "id": "448f06a5",
   "metadata": {},
   "outputs": [],
   "source": [
    "%%time\n",
    "sns.set_theme()\n",
    "plt.figure(figsize=(15,4))\n",
    "sns.lineplot(data=yearCountTable, x=\"Year\", y=\"Count\")"
   ]
  },
  {
   "cell_type": "markdown",
   "id": "6f40e2cc",
   "metadata": {},
   "source": [
    "<H1>Dash Line chart</H1>"
   ]
  },
  {
   "cell_type": "code",
   "execution_count": null,
   "id": "00ade96e",
   "metadata": {},
   "outputs": [],
   "source": [
    "%%time\n",
    "fig = px.line(yearCountTable, x=\"Year\", y=\"Count\", title='No of Anime from 2001 to 2020')\n",
    "fig.show()"
   ]
  },
  {
   "cell_type": "code",
   "execution_count": null,
   "id": "1ac1977c",
   "metadata": {},
   "outputs": [],
   "source": [
    "dfseason = dfGenreSet[['score', 'start_season']]\n",
    "dfseason = dfseason.dropna()"
   ]
  },
  {
   "cell_type": "markdown",
   "id": "e954f76e",
   "metadata": {},
   "source": [
    "<H1> Matplotlib box plot </H1> "
   ]
  },
  {
   "cell_type": "code",
   "execution_count": null,
   "id": "30e4f937",
   "metadata": {},
   "outputs": [],
   "source": [
    "%%time\n",
    "fig, ax = plt.subplots(figsize=(15,4))\n",
    "summer = dfseason[(dfseason.start_season == 'summer')]\n",
    "winter = dfseason[(dfseason.start_season == 'winter')]\n",
    "spring = dfseason[(dfseason.start_season == 'spring')]\n",
    "fall = dfseason[(dfseason.start_season == 'fall')]\n",
    "columns = [summer['score'], winter['score'], spring['score'], fall['score']]\n",
    "ax.boxplot(columns, widths = 0.10, patch_artist = True)\n",
    "plt.show()"
   ]
  },
  {
   "cell_type": "markdown",
   "id": "88b738b4",
   "metadata": {},
   "source": [
    "<H1> Seaborn box plot </H1>"
   ]
  },
  {
   "cell_type": "code",
   "execution_count": null,
   "id": "18c39fb1",
   "metadata": {
    "scrolled": true
   },
   "outputs": [],
   "source": [
    "%%time\n",
    "plt.figure(figsize=(15,4))\n",
    "sns.boxplot(x=dfseason['start_season'],y=dfGenreSet['score'], width=0.10);\n",
    "plt.show()"
   ]
  },
  {
   "cell_type": "markdown",
   "id": "a89be3e4",
   "metadata": {},
   "source": [
    "<H1> Dash box plot </H1>"
   ]
  },
  {
   "cell_type": "code",
   "execution_count": null,
   "id": "eadf18c7",
   "metadata": {
    "scrolled": false
   },
   "outputs": [],
   "source": [
    "%%time\n",
    "fig = px.box(dfseason, x='start_season',y='score', color = 'start_season')\n",
    "fig.update_layout(boxgap=0.85, boxgroupgap=0.2)\n",
    "fig.show()"
   ]
  },
  {
   "cell_type": "markdown",
   "id": "1a4aea25",
   "metadata": {},
   "source": [
    "<H1> Matplotlib Area plot </H1>"
   ]
  },
  {
   "cell_type": "code",
   "execution_count": null,
   "id": "933d39cf",
   "metadata": {},
   "outputs": [],
   "source": [
    "#Creating pivot table to plot area graph with season vs year vs count\n",
    "ptseason = seasonCountTable.pivot_table(['Count'], index=['Year'], columns = 'Season')\n",
    "ptseason"
   ]
  },
  {
   "cell_type": "code",
   "execution_count": null,
   "id": "2fa27bdd",
   "metadata": {},
   "outputs": [],
   "source": [
    "%%time\n",
    "plt.figure(figsize=(15,4))\n",
    "ptseason['Count'].plot.area()\n",
    "plt.show()"
   ]
  },
  {
   "cell_type": "markdown",
   "id": "e30a12bd",
   "metadata": {},
   "source": [
    "<H1> Seaborn area plot </H1>"
   ]
  },
  {
   "cell_type": "code",
   "execution_count": null,
   "id": "f3a50bd3",
   "metadata": {},
   "outputs": [],
   "source": [
    "%%time\n",
    "plt.figure(figsize=(15,4))\n",
    "sns.set_theme()\n",
    "ptseasonreset = ptseason.reset_index()\n",
    "plt.stackplot(ptseasonreset['Year'], ptseasonreset['Count'].to_numpy().T)"
   ]
  },
  {
   "cell_type": "markdown",
   "id": "c57acd3d",
   "metadata": {},
   "source": [
    "<H1> Dash area plot </H1>"
   ]
  },
  {
   "cell_type": "code",
   "execution_count": null,
   "id": "7b970f74",
   "metadata": {},
   "outputs": [],
   "source": [
    "%%time\n",
    "fig = px.area(seasonCountTable, x=\"Year\", y=\"Count\", color='Season', width=1050, height=400)\n",
    "fig.show()"
   ]
  },
  {
   "cell_type": "markdown",
   "id": "bed09c5a",
   "metadata": {},
   "source": [
    "<H1> Matplotlib bubble plot </H1>"
   ]
  },
  {
   "cell_type": "code",
   "execution_count": null,
   "id": "380b6e83",
   "metadata": {},
   "outputs": [],
   "source": [
    "# Changing the datatype of start_type from object to category\n",
    "dfAnime2021[\"start_season\"] = dfAnime2021[\"start_season\"].astype(\"category\")"
   ]
  },
  {
   "cell_type": "code",
   "execution_count": null,
   "id": "ccc3f209",
   "metadata": {
    "scrolled": true
   },
   "outputs": [],
   "source": [
    "%%time\n",
    "plt.figure(figsize=(15, 4))\n",
    "plt.scatter(\n",
    "    x = dfAnime2021['score'], \n",
    "    y = dfAnime2021['scored_by']/1000, \n",
    "    s=dfAnime2021['members']/1000, \n",
    "    c=dfAnime2021['start_season'].cat.codes, \n",
    "    cmap=\"Accent\", \n",
    "    alpha=0.6, \n",
    "    edgecolors=\"white\", \n",
    "    linewidth=2);\n",
    "plt.xlabel(\"Score\")\n",
    "plt.ylabel(\"Scored By\")\n",
    "plt.title(\"Score vs Members\")"
   ]
  },
  {
   "cell_type": "markdown",
   "id": "71e1b04d",
   "metadata": {},
   "source": [
    "<H1> Seaborn bubble plot </H1>"
   ]
  },
  {
   "cell_type": "code",
   "execution_count": null,
   "id": "f1de62fd",
   "metadata": {
    "scrolled": false
   },
   "outputs": [],
   "source": [
    "%%time\n",
    "plt.figure(figsize=(15,4))\n",
    "sns.scatterplot(data=dfAnime2021, x=\"score\", y=\"scored_by\", size=\"members\", hue=\"start_season\", alpha=0.5, sizes=(20, 400))\n",
    "plt.show()"
   ]
  },
  {
   "cell_type": "markdown",
   "id": "d1dc1666",
   "metadata": {},
   "source": [
    "<H1> Dash bubble plot </H1>"
   ]
  },
  {
   "cell_type": "code",
   "execution_count": null,
   "id": "fddd878b",
   "metadata": {
    "scrolled": true
   },
   "outputs": [],
   "source": [
    "%%time\n",
    "fig = px.scatter(dfAnime2021, x=\"score\", y=\"scored_by\", size=\"members\", color=\"start_season\", hover_name=\"title\", log_x=True, size_max=20)\n",
    "fig.show()"
   ]
  },
  {
   "cell_type": "markdown",
   "id": "0e07d49f",
   "metadata": {},
   "source": [
    "<H1> Matplotlib 3D chart </H1>"
   ]
  },
  {
   "cell_type": "code",
   "execution_count": null,
   "id": "349af9db",
   "metadata": {},
   "outputs": [],
   "source": [
    "%%time\n",
    "fig = plt.figure(figsize=(7, 7))\n",
    "ax = fig.add_subplot(projection='3d')\n",
    "for m in [('o'), ('^')]:\n",
    "    xs = dfAnime2021['score']\n",
    "    ys = dfAnime2021['scored_by']/1000\n",
    "    zs = dfAnime2021['favorites']/1000\n",
    "    ax.scatter(xs, ys, zs,c=dfAnime2021['start_season'].cat.codes, marker=m)\n",
    "ax.set_xlabel(\"Score\")\n",
    "ax.set_ylabel(\"Scored By\")\n",
    "ax.set_zlabel(\"Favorites\")\n",
    "plt.show()"
   ]
  },
  {
   "cell_type": "markdown",
   "id": "fe681012",
   "metadata": {},
   "source": [
    "<H1> Seaborn 3D chart </H1>"
   ]
  },
  {
   "cell_type": "code",
   "execution_count": null,
   "id": "78d250b9",
   "metadata": {},
   "outputs": [],
   "source": [
    "%%time\n",
    "from mpl_toolkits.mplot3d import Axes3D\n",
    "sns.set(style = \"darkgrid\")\n",
    "fig = plt.figure(figsize=(7, 7))\n",
    "ax = fig.add_subplot(111, projection = '3d')\n",
    "x = dfAnime2021['score']\n",
    "y = dfAnime2021['scored_by']/1000\n",
    "z = dfAnime2021['favorites']/1000\n",
    "ax.set_xlabel(\"Score\")\n",
    "ax.set_ylabel(\"Scored By\")\n",
    "ax.set_zlabel(\"Favorites\")\n",
    "ax.scatter(x, y, z, c=dfAnime2021['start_season'].cat.codes)\n",
    "plt.show()"
   ]
  },
  {
   "cell_type": "markdown",
   "id": "6abc6306",
   "metadata": {},
   "source": [
    "<H1> Dash 3D chart </H1>"
   ]
  },
  {
   "cell_type": "code",
   "execution_count": null,
   "id": "60bf7c5a",
   "metadata": {
    "scrolled": false
   },
   "outputs": [],
   "source": [
    "%%time\n",
    "fig = px.scatter_3d(dfAnime2021, x='score', y='scored_by', z='favorites', size='members', color='start_season',\n",
    "                    hover_data=['title'])\n",
    "fig.update_layout(scene_zaxis_type=\"log\")\n",
    "fig.show()"
   ]
  },
  {
   "cell_type": "code",
   "execution_count": null,
   "id": "095a5e9d",
   "metadata": {},
   "outputs": [],
   "source": [
    "# Changing the datatype of start_type back to category to object\n",
    "dfAnime2021[\"start_season\"] = dfAnime2021[\"start_season\"].astype(\"object\")"
   ]
  },
  {
   "cell_type": "markdown",
   "id": "4e5c7c7d",
   "metadata": {},
   "source": [
    "<H1> Dash animation </H1>"
   ]
  },
  {
   "cell_type": "code",
   "execution_count": null,
   "id": "eb64cee4",
   "metadata": {},
   "outputs": [],
   "source": [
    "fig = px.bar(seasonCountTable, x=\"Season\", y=\"Count\", color=\"Season\",\n",
    "  animation_frame=\"Year\")\n",
    "fig.show()"
   ]
  },
  {
   "cell_type": "markdown",
   "id": "e0a46877",
   "metadata": {},
   "source": [
    "<H1> Performance comparison of all three libraries</H1>"
   ]
  },
  {
   "cell_type": "code",
   "execution_count": null,
   "id": "f58d74ba",
   "metadata": {
    "scrolled": false
   },
   "outputs": [],
   "source": [
    "#Reding the csv file\n",
    "performancedf = pd.read_csv(r'Performance.csv')\n",
    "fig = px.histogram(performancedf, x=\"Chart\", y=\"RunningTime\", color='Library', barmode='group')\n",
    "fig.show()"
   ]
  },
  {
   "cell_type": "code",
   "execution_count": null,
   "id": "a7f64524",
   "metadata": {},
   "outputs": [],
   "source": []
  }
 ],
 "metadata": {
  "kernelspec": {
   "display_name": "Python 3 (ipykernel)",
   "language": "python",
   "name": "python3"
  },
  "language_info": {
   "codemirror_mode": {
    "name": "ipython",
    "version": 3
   },
   "file_extension": ".py",
   "mimetype": "text/x-python",
   "name": "python",
   "nbconvert_exporter": "python",
   "pygments_lexer": "ipython3",
   "version": "3.9.13"
  }
 },
 "nbformat": 4,
 "nbformat_minor": 5
}
